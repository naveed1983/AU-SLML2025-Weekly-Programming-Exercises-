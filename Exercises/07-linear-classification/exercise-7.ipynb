{
 "cells": [
  {
   "cell_type": "markdown",
   "metadata": {},
   "source": [
    "# Week 7 - Linear classification\n",
    "\n",
    "Learning contents:\n",
    "* Least squares for classification\n",
    "* Logistic regression\n",
    "* Perceptron (Optional)\n",
    "* Multi-class logistic regression (Optional)"
   ]
  },
  {
   "cell_type": "code",
   "execution_count": 2,
   "metadata": {},
   "outputs": [],
   "source": [
    "# Dependencies\n",
    "from sklearn.datasets import load_digits\n",
    "from sklearn.decomposition import PCA \n",
    "import matplotlib.pyplot as plt \n",
    "import seaborn as sns; sns.set() # this import just makes the plots prettier\n",
    "import numpy as np"
   ]
  },
  {
   "cell_type": "markdown",
   "metadata": {},
   "source": [
    "## Data\n",
    "We'll be working with a dataset of handwritten digits. \n",
    "Let visualise some examples."
   ]
  },
  {
   "cell_type": "code",
   "execution_count": 3,
   "metadata": {},
   "outputs": [],
   "source": [
    "# We're using a subset of two classes for now\n",
    "digits = load_digits(n_class=2)"
   ]
  },
  {
   "cell_type": "code",
   "execution_count": 4,
   "metadata": {},
   "outputs": [],
   "source": [
    "# Handy plotting functions\n",
    "x_min, x_max = -40, 40\n",
    "y_min, y_max = -40, 40\n",
    "\n",
    "def plot_examples():\n",
    "    show_num = 4\n",
    "    _, axes = plt.subplots(1, show_num)\n",
    "    images_and_labels = list(zip(digits.images, digits.target))\n",
    "    for ax, (image, label) in zip(axes[:], images_and_labels[:show_num]):\n",
    "        ax.set_axis_off()\n",
    "        ax.imshow(image, cmap=plt.cm.gray_r, interpolation='nearest')\n",
    "        ax.set_title('Label: %i' % label)\n",
    "\n",
    "def plot_scatter(data, target, n_class=2):\n",
    "    plt.scatter(data[:, 0], data[:, 1], c=target, edgecolor='none', alpha=0.5, cmap=plt.cm.get_cmap('rainbow', n_class))\n",
    "    plt.xlabel('Component 1')\n",
    "    plt.ylabel('Component 2')\n",
    "    plt.colorbar();\n",
    "    plt.xlim(x_min, x_max)\n",
    "    plt.ylim(y_min, y_max)\n",
    "\n",
    "def plot_decision_boundary(weights):\n",
    "    raise NotImplementedError(\"You should fill this is\")"
   ]
  },
  {
   "cell_type": "code",
   "execution_count": null,
   "metadata": {},
   "outputs": [],
   "source": [
    "plot_examples()"
   ]
  },
  {
   "cell_type": "code",
   "execution_count": 6,
   "metadata": {},
   "outputs": [
    {
     "data": {
      "text/plain": [
       "True"
      ]
     },
     "execution_count": 6,
     "metadata": {},
     "output_type": "execute_result"
    }
   ],
   "source": [
    "# The dataset contains 2D data in the form of the `images` attribute, \n",
    "# as well as a 1D-version called `data`, where the images have been flattened. \n",
    "np.array_equal(digits.images[0].flatten(), digits.data[0])"
   ]
  },
  {
   "cell_type": "code",
   "execution_count": 7,
   "metadata": {},
   "outputs": [],
   "source": [
    "# We can get a 2D version of the data using PCA\n",
    "pca = PCA(n_components=2)\n",
    "X = pca.fit_transform(digits.data) # this is the representation, we'll be working with"
   ]
  },
  {
   "cell_type": "code",
   "execution_count": 8,
   "metadata": {},
   "outputs": [],
   "source": [
    "# Out targets are in the set {0,1}\n",
    "t_01 = digits.target"
   ]
  },
  {
   "cell_type": "code",
   "execution_count": null,
   "metadata": {},
   "outputs": [],
   "source": [
    "# Let's plot all the data in 2D\n",
    "plot_scatter(X, t_01)"
   ]
  },
  {
   "cell_type": "markdown",
   "metadata": {},
   "source": [
    "## 1) Least Squares\n",
    "\n",
    "### 1.1) Find the weight vector using Least Squares for classification\n",
    "Find the optimal weights **W** of size (M+1,1), where M is the size of each data point **X_n**={x_1n,...,x_Mn} , in this problem each **X_n** has size 2 because it has 2 coordinates. And where N is the number of data points. To find the optimal weight calculation look at slides 13 and 15 of Lecture 13. \n",
    "Hint: The PHI matrix will have a column of 1's so that the initial weight, **w_0**, can  be multiplied by 1. Construct PHI=[1,**X**], where **X** is the matrix of data points, in this case **X** will have dimensions [N x M] (N: total data points and M: no. of basis vectors, in this case with M=2 components/coordinates) and PHI will have dimensions [N x M+1]."
   ]
  },
  {
   "cell_type": "code",
   "execution_count": null,
   "metadata": {},
   "outputs": [],
   "source": []
  },
  {
   "cell_type": "markdown",
   "metadata": {},
   "source": [
    "### 1.2) Create class predictions using the weight vector\n",
    "Create a function called 'predict' that takes as arguments: the weights vector, **W**, found using the Least Squares method for classification in the previous step, the augmented data created by adding a row of 1's to the data, **X**, and a decision boundary, which will be scalar (choose the value 0.5) that will be used to determine the boundary of classification. The function should return the predictions for each data point, so it should return an array of [Nx1] values, based on the decision boundary value for classification. See slide 13, Lecture 13. Finally, check that the predictions are the same than the original target vector."
   ]
  },
  {
   "cell_type": "code",
   "execution_count": null,
   "metadata": {},
   "outputs": [],
   "source": []
  },
  {
   "cell_type": "markdown",
   "metadata": {},
   "source": [
    "### 1.3) Plot the decision boundary \n",
    "You will need to write a function named plot_decision_boundary() earlier, to plot the decision boundary of the linear classifier. Once you have defined the function, here you will call it by providing **W_least_squares** as parameter obtained in the previous step, to show the plot."
   ]
  },
  {
   "cell_type": "code",
   "execution_count": null,
   "metadata": {},
   "outputs": [],
   "source": [
    "plot_scatter(X, t_01)\n",
    "# plot_decision_boundary(W_least_squares)"
   ]
  },
  {
   "cell_type": "markdown",
   "metadata": {},
   "source": [
    "## 2) Logistic Regression\n",
    "### 2.1) Find the weight vector using the Logistic Regression\n",
    "To find the weight vector compute the gradient of error function with respect to **w** , Delta(E(**w**)) (see slide 20 of Lecture 14). **PHI(X)** has dimensions [Nx(M+1)], so it only has an added row of 1's, in this case it has dimension 360x3. And then, considering that **w_0** is provided by initializing it randomly, do, for 30 epochs a weight update: w (tau +1) = w (tau ) − (learning rate) * deltaE (w (tau )).\n",
    "\n",
    "Prepare the PHI matrix the same way as you did in section 1.1\n",
    "\n",
    "Use the formulas of the logistic regression method given in Section 4.3.2 in the text book"
   ]
  },
  {
   "cell_type": "code",
   "execution_count": 12,
   "metadata": {},
   "outputs": [],
   "source": [
    "# initialise W_0 randomly\n",
    "np.random.seed(42)\n",
    "W_0 = 2 * np.random.random((1, 3)) -1 # random values in the range [-1,1]\n",
    "\n",
    "# obtain the PHI matrix \n",
    "\n",
    "# corresponding target vectors should be {0, 1}\n",
    "t_01 = digits.target"
   ]
  },
  {
   "cell_type": "code",
   "execution_count": null,
   "metadata": {},
   "outputs": [],
   "source": [
    "learning_rate=0.1"
   ]
  },
  {
   "cell_type": "markdown",
   "metadata": {},
   "source": [
    "### 2.2) Perform class-predictions\n",
    "Use weights obtained in the previous step along with the input matrix X to obtain the model predictions on the input data X. Remember that the prediction formula will be the same as used in Least Squares based model (slide 13 of lecture 13)"
   ]
  },
  {
   "cell_type": "code",
   "execution_count": null,
   "metadata": {},
   "outputs": [],
   "source": []
  },
  {
   "cell_type": "markdown",
   "metadata": {},
   "source": [
    "### 2.3) Plot the decision boundary\n",
    "The function written earlier for Least squares classifier, plot_decision_boundary(), will again be used t.o plot the decision boundary"
   ]
  },
  {
   "cell_type": "code",
   "execution_count": null,
   "metadata": {},
   "outputs": [],
   "source": [
    "plot_scatter(X, t_01)\n",
    "# plot_decision_boundary(W_logistic)"
   ]
  },
  {
   "cell_type": "markdown",
   "metadata": {},
   "source": [
    "## 3) Multi-class logistic regression (Optional but Highly Recommended)\n",
    "Repeat 2) but now for multiple classes, i.e. compute the weight matrix, perform predictions (you shold be able to get about 93% accuracy) and plot decision boundaries.\n",
    "\n",
    "Hint: You will need to use a one-hot encoding of the targets. See section 4.3.4 in the textbook."
   ]
  },
  {
   "cell_type": "code",
   "execution_count": 13,
   "metadata": {},
   "outputs": [],
   "source": [
    "# Data\n",
    "n_class = 3\n",
    "digits = load_digits(n_class=n_class)\n",
    "pca = PCA(n_components=2)\n",
    "X_mult = pca.fit_transform(digits.data)\n",
    "\n",
    "learning_rate = 0.1\n",
    "\n",
    "# We need to do a one_hot encoding of our data:\n",
    "# I.e. 0 -> [1,0,0], 1 -> [0,1,0], 2 -> [0,0,1]\n",
    "def one_hot(targets, n_class=n_class):\n",
    "    res = np.eye(n_class)[np.array(targets).reshape(-1)]\n",
    "    return res.reshape(list(targets.shape)+[n_class])\n",
    "\n",
    "t_oh = one_hot(digits.target, n_class)"
   ]
  },
  {
   "cell_type": "code",
   "execution_count": 14,
   "metadata": {},
   "outputs": [
    {
     "data": {
      "image/png": "[encoded data removed]",
      "text/plain": [
       "<Figure size 432x288 with 2 Axes>"
      ]
     },
     "metadata": {},
     "output_type": "display_data"
    }
   ],
   "source": [
    "plot_scatter(X_mult, digits.target, n_class=n_class)"
   ]
  },
  {
   "cell_type": "markdown",
   "metadata": {},
   "source": [
    "## 4) Multi-class logistic regression on original data representation (Optional Exercise) \n",
    "Repeat exercise 3), but use the original data representation instead.\n",
    "You can omit the plots.\n",
    "\n",
    "Hint: To get 100% accuracy, you can try to:\n",
    "- Rescale your data to the range [0,1]\n",
    "- Run 1000 epochs with learning_rate = 0.1"
   ]
  },
  {
   "cell_type": "markdown",
   "metadata": {},
   "source": [
    "## 5) Perceptron (Optional Exercise)\n",
    "\n",
    "### 5.1) set up and implement the Perceptron forward model \n",
    "Implement the perceptron algorithm for classification (see slide 20 of Lecture 13) for 1000 epochs. For this, consider PHI(X) as a polynomial basis of order D=1, this means PHI(X)_n = { 1, X }, so PHI(X) will have dimensions [Nx(MxD+1)]. In this case D=1 (polynomial of order 1), M=2 (each data point X_n has two coordinates) and N is 360 data points. Assume that the data is already suffled. To initialize the weight vector w_0, we set the random seed to 13 and make that the weight vector is in the range of {-1,1}. In addition, a learning_rate of 0.1 should do the job.\n",
    "Hint: remember to change the target representation range so that each data point will have a class of -1 or 1."
   ]
  },
  {
   "cell_type": "code",
   "execution_count": null,
   "metadata": {},
   "outputs": [],
   "source": []
  },
  {
   "cell_type": "markdown",
   "metadata": {},
   "source": [
    "### 5.2) Perform class-predictions\n",
    "Again, you should be able to classify all correctly by checking that the predictions are the same as the provided target vector. Notice both predictions and target vector are an array of N components of 0's and 1's, so you have to make your predictions go back to 1's and 0's instead of -1's and 1's."
   ]
  },
  {
   "cell_type": "code",
   "execution_count": null,
   "metadata": {},
   "outputs": [],
   "source": []
  },
  {
   "cell_type": "markdown",
   "metadata": {},
   "source": [
    "### 5.3) Plot the decision boundary\n",
    "To plot the decision boundary, adapt the names from your weights and PHI matrix in the code below."
   ]
  },
  {
   "cell_type": "code",
   "execution_count": null,
   "metadata": {},
   "outputs": [],
   "source": []
  }
 ],
 "metadata": {
  "kernelspec": {
   "display_name": "MLcourse2025",
   "language": "python",
   "name": "python3"
  },
  "language_info": {
   "codemirror_mode": {
    "name": "ipython",
    "version": 3
   },
   "file_extension": ".py",
   "mimetype": "text/x-python",
   "name": "python",
   "nbconvert_exporter": "python",
   "pygments_lexer": "ipython3",
   "version": "3.12.11"
  }
 },
 "nbformat": 4,
 "nbformat_minor": 4
}
